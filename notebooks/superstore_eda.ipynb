{
 "cells": [
  {
   "cell_type": "code",
   "execution_count": null,
   "id": "86a8eb7f-7fc3-410f-b77b-f2ac0e6e953d",
   "metadata": {},
   "outputs": [],
   "source": [
    "import pandas as pd\n",
    "import numpy as np\n",
    "import seaborn as sns\n",
    "import matplotlib.pyplot as plt"
   ]
  },
  {
   "cell_type": "code",
   "execution_count": null,
   "id": "75e04cbf-4dc0-444b-b462-0f4738ffe00e",
   "metadata": {},
   "outputs": [],
   "source": [
    "df = pd.read_csv (\"../data/raw/superstore_data.csv\")\n",
    "df"
   ]
  },
  {
   "cell_type": "code",
   "execution_count": null,
   "id": "ed3ad6a7-e7f8-407f-a121-961dbb58ea33",
   "metadata": {},
   "outputs": [],
   "source": [
    "df.shape"
   ]
  },
  {
   "cell_type": "code",
   "execution_count": null,
   "id": "983d9417-0d7b-4fd1-8fc6-e992477abec9",
   "metadata": {},
   "outputs": [],
   "source": [
    "df.columns = df.columns.str.lower()\n",
    "df"
   ]
  },
  {
   "cell_type": "code",
   "execution_count": null,
   "id": "acf46360-e0ad-4503-94e6-538262abbd1b",
   "metadata": {},
   "outputs": [],
   "source": [
    "df.dropna(inplace = True)"
   ]
  },
  {
   "cell_type": "code",
   "execution_count": null,
   "id": "3bc89bf1-577f-4fdc-b2ff-35b47a8a0587",
   "metadata": {},
   "outputs": [],
   "source": [
    "df.education.unique()"
   ]
  },
  {
   "cell_type": "code",
   "execution_count": null,
   "id": "220709a8-0998-4a5f-882a-b4518301bb85",
   "metadata": {},
   "outputs": [],
   "source": [
    "df.marital_status.unique()"
   ]
  },
  {
   "cell_type": "code",
   "execution_count": null,
   "id": "b1f594c7-8851-44f2-a784-a411c82a75ca",
   "metadata": {},
   "outputs": [],
   "source": [
    "from datetime import datetime\n",
    "\n",
    "# Extract the year and calculate age\n",
    "df[\"age\"] = datetime.now().year - df[\"year_birth\"]\n",
    "df['dt_customer'] = pd.to_datetime(df['dt_customer']) "
   ]
  },
  {
   "cell_type": "code",
   "execution_count": null,
   "id": "9f894a45-1f14-4cef-a884-a694cb8d593a",
   "metadata": {},
   "outputs": [],
   "source": [
    "#renaming the values that have abstract headings. NI stands for not identified for people that said \"ABSURD\" as a marital status\n",
    "\n",
    "df[\"education\"] = df[\"education\"].replace({\"Graduation\": \"Bachelor\", \"2n Cycle\": \"Master\"})\n",
    "df[\"marital_status\"] = df[\"marital_status\"].replace({\"Alone\": \"Single\", \"YOLO\": \"Single\", \"Together\": \"Single\", \"Absurd\": \"NI\"})\n",
    "df"
   ]
  },
  {
   "cell_type": "markdown",
   "id": "b0c6d8d6-3782-40ef-82bf-2d40925e0168",
   "metadata": {},
   "source": [
    "## EDA"
   ]
  },
  {
   "cell_type": "markdown",
   "id": "40a1b8be-ee13-4f2a-887f-50ebecdd6af9",
   "metadata": {},
   "source": [
    "### Demography analysis"
   ]
  },
  {
   "cell_type": "code",
   "execution_count": null,
   "id": "6c1858e4-5fd7-4118-8e8e-9eb3cb18ad1d",
   "metadata": {},
   "outputs": [],
   "source": [
    "\n",
    "df.info()\n",
    "df.isnull().sum()\n",
    "\n",
    "# Summary statistics\n",
    "df.describe()\n",
    "\n",
    "# Distribution of spending\n",
    "df[\"Total_Spending\"] = df[[\"mntwines\", \"mntfruits\", \"mntmeatproducts\", \n",
    "                           \"mntfishproducts\", \"mntsweetproducts\", \"mntgoldprods\"]].sum(axis=1)\n",
    "\n",
    "# Plot spending distribution\n",
    "plt.figure(figsize=(8, 5))\n",
    "sns.histplot(df[\"Total_Spending\"], bins=30, kde=True)\n",
    "plt.title(\"Distribution of Total Spending\")\n",
    "plt.xlabel(\"Total Spending\")\n",
    "plt.ylabel(\"Count\")\n",
    "plt.show()\n",
    "\n",
    "#spending per product\n",
    "spending = df[[\"mntwines\", \"mntfruits\", \"mntmeatproducts\", \n",
    "               \"mntfishproducts\", \"mntsweetproducts\", \"mntgoldprods\"]].sum()\n",
    "spending_df = spending.reset_index()\n",
    "spending_df.columns = [\"Product Type\", \"Total Spending\"]\n",
    "plt.figure(figsize=(8,5))\n",
    "sns.barplot(x=\"Product Type\", y=\"Total Spending\", data=spending_df, palette=\"viridis\")\n",
    "plt.title(\"Total Spending per Product Type\")\n",
    "plt.xlabel(\"Product Type\")\n",
    "plt.ylabel(\"Total Spending\")\n",
    "plt.xticks(rotation=45)\n",
    "plt.savefig(\"chart.png4\", format=\"png\", dpi=300, bbox_inches=\"tight\")\n",
    "plt.show()\n",
    "\n",
    "# Correlation heatmap\n",
    "plt.figure(figsize=(10, 6))\n",
    "sns.heatmap(df[[\"Total_Spending\", \"income\", \"kidhome\", \"teenhome\"]].corr(), annot=True, cmap=\"coolwarm\")\n",
    "plt.title(\"Correlation Heatmap\")\n",
    "plt.show()\n",
    "\n",
    "# Spending by education level\n",
    "plt.figure(figsize=(8, 5))\n",
    "sns.barplot(x=df[\"education\"], y=df[\"Total_Spending\"], estimator=sum)\n",
    "plt.xticks(rotation=45)\n",
    "plt.title(\"Total Spending by Education Level\")\n",
    "plt.savefig(\"chart.png2\", format=\"png\", dpi=300, bbox_inches=\"tight\")\n",
    "plt.show()\n",
    "\n",
    "# Spending by marital status\n",
    "plt.figure(figsize=(8, 5))\n",
    "sns.barplot(x=df[\"marital_status\"], y=df[\"Total_Spending\"], estimator=sum)\n",
    "plt.xticks(rotation=45)\n",
    "plt.title(\"Total Spending by Marital Status\")\n",
    "plt.savefig(\"chart.png3\", format=\"png\", dpi=300, bbox_inches=\"tight\")\n",
    "plt.show()\n",
    "\n",
    "# Spending by Age Group\n",
    "df[\"Age_Group\"] = pd.cut(df[\"age\"], bins=[20, 30, 40, 50, 60, 70, 80], labels=[\"20s\", \"30s\", \"40s\", \"50s\", \"60s\", \"70s\"])\n",
    "plt.figure(figsize=(8, 5))\n",
    "sns.barplot(x=df[\"Age_Group\"], y=df[\"Total_Spending\"], estimator=sum)\n",
    "plt.title(\"Total Spending by Age Group\")\n",
    "plt.savefig(\"chart.png\", format=\"png\", dpi=300, bbox_inches=\"tight\")\n",
    "plt.show()\n",
    "\n",
    "# Top spenders\n",
    "top_spenders = df.nlargest(10, \"Total_Spending\")[[\"id\", \"Total_Spending\", \"income\", \"marital_status\", \"education\", \"age\"]]\n",
    "top_spenders\n"
   ]
  },
  {
   "cell_type": "code",
   "execution_count": null,
   "id": "f48f1147-6aa7-42a7-b751-279ecfade14b",
   "metadata": {},
   "outputs": [],
   "source": [
    "\n",
    "df[\"Total_Spending\"] = df[[\"mntwines\", \"mntfruits\", \"mntmeatproducts\", \n",
    "                           \"mntfishproducts\", \"mntsweetproducts\", \"mntgoldprods\"]].sum(axis=1)\n",
    "\n",
    "#What factors affect customer recency?**\n",
    "plt.figure(figsize=(8, 5))\n",
    "sns.scatterplot(x=df[\"income\"], y=df[\"recency\"])\n",
    "plt.title(\"Recency vs Income\")\n",
    "plt.xlabel(\"Income\")\n",
    "plt.ylabel(\"Days Since Last Purchase\")\n",
    "plt.show()\n",
    "\n",
    "plt.figure(figsize=(8, 5))\n",
    "sns.scatterplot(x=df[\"Total_Spending\"], y=df[\"recency\"])\n",
    "plt.title(\"Recency vs Total Spending\")\n",
    "plt.xlabel(\"Total Spending\")\n",
    "plt.ylabel(\"Days Since Last Purchase\")\n",
    "plt.show()\n",
    "\n",
    "# Correlation heatmap for Recency\n",
    "plt.figure(figsize=(8, 5))\n",
    "sns.heatmap(df[[\"recency\", \"income\", \"Total_Spending\"]].corr(), annot=True, cmap=\"coolwarm\")\n",
    "plt.title(\"Correlation of Recency with Income & Spending\")\n",
    "plt.show()\n",
    "\n",
    "#Who is most likely to respond to marketing campaigns?**\n",
    "plt.figure(figsize=(8, 5))\n",
    "sns.barplot(x=df[\"response\"], y=df[\"income\"])\n",
    "plt.title(\"Marketing Response by Income Level\")\n",
    "plt.xlabel(\"Response\")\n",
    "plt.ylabel(\"Income\")\n",
    "plt.show()\n",
    "\n",
    "plt.figure(figsize=(8, 5))\n",
    "sns.barplot(x=df[\"response\"], y=df[\"Total_Spending\"])\n",
    "plt.title(\"Marketing Response by Spending\")\n",
    "plt.xlabel(\"Response\")\n",
    "plt.ylabel(\"Total Spending\")\n",
    "plt.show()\n",
    "\n",
    "# Response rate by Education Level\n",
    "plt.figure(figsize=(8, 5))\n",
    "sns.barplot(x=df[\"education\"], y=df[\"response\"])\n",
    "plt.xticks(rotation=45)\n",
    "plt.title(\"Marketing Response by Education Level\")\n",
    "plt.show()\n",
    "\n",
    "# Response rate by Marital status\n",
    "plt.figure(figsize=(8, 5))\n",
    "sns.barplot(x=df[\"marital_status\"], y=df[\"response\"])\n",
    "plt.xticks(rotation=45)\n",
    "plt.title(\"Marketing Response by Marital Status\")\n",
    "plt.show()\n",
    "\n",
    "#Do customers who complain spend less or not?\n",
    "plt.figure(figsize=(8, 5))\n",
    "sns.barplot(x=df[\"complain\"], y=df[\"Total_Spending\"])\n",
    "plt.title(\"Total Spending vs Complaints\")\n",
    "plt.xlabel(\"Complaint Filed (0=No, 1=Yes)\")\n",
    "plt.ylabel(\"Total Spending\")\n",
    "plt.show()\n",
    "\n",
    "plt.figure(figsize=(8, 5))\n",
    "sns.barplot(x=df[\"complain\"], y=df[\"numwebpurchases\"])\n",
    "plt.title(\"Online Purchases vs Complaints\")\n",
    "plt.xlabel(\"Complaint Filed (0=No, 1=Yes)\")\n",
    "plt.ylabel(\"Number of Web Purchases\")\n",
    "plt.show()\n",
    "\n",
    "# Compare marketing response between customers who complained vs. those who didn’t\n",
    "plt.figure(figsize=(8, 5))\n",
    "sns.barplot(x=df[\"complain\"], y=df[\"response\"])\n",
    "plt.title(\"Marketing Response vs Complaints\")\n",
    "plt.xlabel(\"Complaint Filed (0=No, 1=Yes)\")\n",
    "plt.ylabel(\"Marketing Response Rate\")\n",
    "plt.show()\n"
   ]
  },
  {
   "cell_type": "code",
   "execution_count": null,
   "id": "feb00336-4812-47dc-b569-63815ae9be38",
   "metadata": {},
   "outputs": [],
   "source": [
    "\n",
    "#Which purchase channels are most popular?\n",
    "channel_columns = [\"numwebpurchases\", \"numcatalogpurchases\", \"numstorepurchases\"]\n",
    "df[\"Total_Purchases\"] = df[channel_columns].sum(axis=1)\n",
    "\n",
    "# Aggregate total purchases for each channel\n",
    "purchase_totals = df[channel_columns].sum().reset_index()\n",
    "purchase_totals.columns = [\"channel\", \"Total_Purchases\"]\n",
    "\n",
    "# Plot total purchases per channel\n",
    "plt.figure(figsize=(8, 5))\n",
    "sns.barplot(x=\"channel\", y=\"Total_Purchases\", data=purchase_totals, palette=\"Blues_r\")\n",
    "plt.title(\"Total Purchases by Channel\")\n",
    "plt.xlabel(\"Purchase Channel\")\n",
    "plt.ylabel(\"Total Number of Purchases\")\n",
    "plt.show()\n",
    "\n",
    "#Compare spending trends across different channels\n",
    "plt.figure(figsize=(8, 5))\n",
    "sns.boxplot(data=df[channel_columns], palette=\"coolwarm\")\n",
    "plt.title(\"Purchase Trends Across Different Channels\")\n",
    "plt.xlabel(\"Purchase Channel\")\n",
    "plt.ylabel(\"Number of Purchases\")\n",
    "plt.show()\n",
    "\n",
    "#Do more web visits lead to more web purchases?\n",
    "plt.figure(figsize=(8, 5))\n",
    "sns.scatterplot(x=df[\"numwebvisitsmonth\"], y=df[\"numwebpurchases\"])\n",
    "plt.title(\"Web Visits vs. Web Purchases\")\n",
    "plt.xlabel(\"Number of Web Visits per Month\")\n",
    "plt.ylabel(\"Number of Web Purchases\")\n",
    "plt.show()\n",
    "\n",
    "# Correlation analysis for web visits & purchases\n",
    "correlation = df[[\"numwebvisitsmonth\", \"numwebpurchases\"]].corr()\n",
    "print(\"Correlation between Web Visits & Web Purchases:\\n\", correlation)\n",
    "\n",
    "plt.figure(figsize=(6, 4))\n",
    "sns.heatmap(correlation, annot=True, cmap=\"coolwarm\")\n",
    "plt.title(\"Correlation Heatmap: Web Visits & Web Purchases\")\n",
    "plt.show()\n"
   ]
  },
  {
   "cell_type": "markdown",
   "id": "2976bbe7-1418-4cd2-be08-90cb452f3175",
   "metadata": {},
   "source": [
    "### Analysis for Prediction"
   ]
  },
  {
   "cell_type": "code",
   "execution_count": null,
   "id": "be2ef0bb-2d6b-43ea-9f5d-a16d2252f962",
   "metadata": {},
   "outputs": [],
   "source": [
    "df[\"mnttotal\"]= df[[\"mntwines\", \"mntfruits\", \"mntmeatproducts\", \n",
    "                          \"mntfishproducts\", \"mntsweetproducts\", \"mntgoldprods\"]].sum(axis=1)"
   ]
  },
  {
   "cell_type": "code",
   "execution_count": null,
   "id": "23e67bee-75d3-4d5c-8fbc-5c9091d079e8",
   "metadata": {},
   "outputs": [],
   "source": [
    "#Descriptive Statistics: Summary Stats of Income, Spending, and Purchases\n",
    "summary_stats = df[['income','mnttotal','numwebpurchases', 'numcatalogpurchases', 'numstorepurchases']].describe()\n",
    "summary_stats"
   ]
  },
  {
   "cell_type": "code",
   "execution_count": null,
   "id": "c316a387-8b9d-439c-b5b4-412aa9a62cb5",
   "metadata": {},
   "outputs": [],
   "source": [
    "# Mode Calculation\n",
    "mode_values = df[['income','mnttotal', 'numwebpurchases', 'numcatalogpurchases', 'numstorepurchases']].mode().iloc[0]\n",
    "mode_values"
   ]
  },
  {
   "cell_type": "code",
   "execution_count": null,
   "id": "7cbc78c0-969a-472c-adc2-0b563e2ec0a5",
   "metadata": {},
   "outputs": [],
   "source": [
    "pivot_spend = df.pivot_table(values='mnttotal', index='education', columns='marital_status', aggfunc='mean')\n",
    "pivot_spend"
   ]
  },
  {
   "cell_type": "code",
   "execution_count": null,
   "id": "887c1ecc-404e-410c-9605-75a99426c86e",
   "metadata": {},
   "outputs": [],
   "source": [
    "\n",
    "pivot_spend.plot(kind='bar', figsize=(10, 6), colormap='viridis', edgecolor='black')\n",
    "\n",
    "plt.title(\"Average spending by Education Level & Marital Status\")\n",
    "plt.xlabel(\"Education Level\")\n",
    "plt.ylabel(\"Average spending\")\n",
    "plt.xticks(rotation=45)\n",
    "plt.legend(title=\"Marital Status\", bbox_to_anchor=(1.05, 1), loc='upper left')\n",
    "plt.grid(axis='y', linestyle='--', alpha=0.7)\n",
    "\n",
    "plt.tight_layout()\n",
    "plt.show()"
   ]
  },
  {
   "cell_type": "code",
   "execution_count": null,
   "id": "860c58ba-7e31-4b13-8eb1-5efc85244cfe",
   "metadata": {},
   "outputs": [],
   "source": [
    "#Correlation Analysis: Relationship Between Numerical Variables\n",
    "correlation_matrix = df[['income','mnttotal', 'numwebpurchases', 'numcatalogpurchases', 'numstorepurchases']].corr()\n",
    "correlation_matrix\n",
    "\n",
    "# Plot Correlation Heatmap\n",
    "plt.figure(figsize=(8, 5))\n",
    "sns.heatmap(correlation_matrix, annot=True, cmap='coolwarm', fmt=\".2f\")\n",
    "plt.title(\"Correlation Heatmap\")\n",
    "plt.show()"
   ]
  },
  {
   "cell_type": "code",
   "execution_count": null,
   "id": "ec4a3c0f-a046-4e15-bade-ffe9166c84bd",
   "metadata": {},
   "outputs": [],
   "source": [
    "# Trend Analysis: Monthly Purchases Over Time\n",
    "#df['dt_customer'] = pd.to_datetime(df['dt_customer'])  \n",
    "df['YearMonth'] = df['dt_customer'].dt.to_period('M') \n",
    "\n",
    "trend_analysis = df.groupby('YearMonth')['mnttotal'].sum()\n",
    "plt.figure(figsize=(10, 5))\n",
    "trend_analysis.plot(marker='o', color='b')\n",
    "plt.title(\"📈 Monthly Spending Trend Over Time\")\n",
    "plt.xlabel(\"Year-Month\")\n",
    "plt.ylabel(\"Total Spending\")\n",
    "plt.grid()\n",
    "plt.show()\n"
   ]
  },
  {
   "cell_type": "code",
   "execution_count": null,
   "id": "7218a9bd-8593-4919-a05e-fe4aade5349e",
   "metadata": {},
   "outputs": [],
   "source": [
    "df.to_csv(\"../data/clean/cleaned_superstore_data.csv\", index=False)\n"
   ]
  },
  {
   "cell_type": "code",
   "execution_count": null,
   "id": "bf153564-f8d0-4d6d-92ca-402e2906bcff",
   "metadata": {},
   "outputs": [],
   "source": []
  }
 ],
 "metadata": {
  "kernelspec": {
   "display_name": "venv",
   "language": "python",
   "name": "venv"
  },
  "language_info": {
   "codemirror_mode": {
    "name": "ipython",
    "version": 3
   },
   "file_extension": ".py",
   "mimetype": "text/x-python",
   "name": "python",
   "nbconvert_exporter": "python",
   "pygments_lexer": "ipython3",
   "version": "3.12.7"
  }
 },
 "nbformat": 4,
 "nbformat_minor": 5
}
