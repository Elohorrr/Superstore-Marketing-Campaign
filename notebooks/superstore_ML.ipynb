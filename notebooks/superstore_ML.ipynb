{
 "cells": [
  {
   "cell_type": "code",
   "execution_count": null,
   "id": "f6f84d19-545f-48ba-8406-cb5dde49db98",
   "metadata": {},
   "outputs": [],
   "source": [
    "import pandas as pd\n",
    "import numpy as np\n",
    "import matplotlib.pyplot as plt\n",
    "import seaborn as sns\n",
    "\n",
    "from sklearn.datasets import load_iris\n",
    "from sklearn.neighbors import KNeighborsClassifier\n",
    "from sklearn.preprocessing import MinMaxScaler\n",
    "from sklearn.tree import DecisionTreeRegressor\n",
    "from sklearn.metrics import r2_score, mean_absolute_error, mean_squared_error, root_mean_squared_error\n",
    "\n",
    "import optuna\n",
    "import optuna.visualization as vis\n",
    "import time\n",
    "\n",
    "import scipy.stats as st\n",
    "from sklearn.model_selection import cross_val_score\n",
    "from sklearn.model_selection import GridSearchCV, RandomizedSearchCV\n",
    "from sklearn.utils import resample\n",
    "pd.set_option('display.max_columns', None)"
   ]
  },
  {
   "cell_type": "code",
   "execution_count": null,
   "id": "847f5c58-d97e-4f15-8267-b5a573163b35",
   "metadata": {},
   "outputs": [],
   "source": [
    "df = pd.read_csv(\"../data/clean/cleaned_superstore_data.csv\")  \n",
    "df.head()"
   ]
  },
  {
   "cell_type": "code",
   "execution_count": null,
   "id": "844e083d-a50f-430b-88e6-089148ef4663",
   "metadata": {},
   "outputs": [],
   "source": [
    "df.columns = df.columns.str.lower()"
   ]
  },
  {
   "cell_type": "code",
   "execution_count": null,
   "id": "0ae06705-de62-458d-92ae-88440fdb82b5",
   "metadata": {},
   "outputs": [],
   "source": [
    "df = df.dropna()"
   ]
  },
  {
   "cell_type": "code",
   "execution_count": null,
   "id": "0bd87914-8516-471c-8e5a-956e02519ebd",
   "metadata": {},
   "outputs": [],
   "source": [
    "df.drop([\"total_spending\",\"age_group\",\"total_purchases\",\"mnttotal\",\t\"yearmonth\"], axis=1, inplace=True)\n",
    "df"
   ]
  },
  {
   "cell_type": "code",
   "execution_count": null,
   "id": "4f33c681-dece-412e-b37b-0ea26577074b",
   "metadata": {},
   "outputs": [],
   "source": [
    "df[\"dt_customer\"] = pd.to_datetime(df[\"dt_customer\"], format=\"%Y-%m-%d\")"
   ]
  },
  {
   "cell_type": "code",
   "execution_count": null,
   "id": "26c40dba-a01d-4d76-a5bd-61132a615285",
   "metadata": {},
   "outputs": [],
   "source": [
    "features = df.drop(columns=[\"response\",\"id\",\"year_birth\",\"dt_customer\"])\n",
    "target = df[\"response\"]"
   ]
  },
  {
   "cell_type": "code",
   "execution_count": null,
   "id": "167ffa40-65b5-43ba-b779-24b4139da497",
   "metadata": {},
   "outputs": [],
   "source": [
    "from sklearn.model_selection import train_test_split\n",
    "\n",
    "X_train, X_test, y_train, y_test = train_test_split(features, target, test_size=0.20, random_state=0)"
   ]
  },
  {
   "cell_type": "code",
   "execution_count": null,
   "id": "bb7798ce-557c-4f43-ba8d-6a46d2386218",
   "metadata": {},
   "outputs": [],
   "source": [
    "#Label encoding of the categorical columns"
   ]
  },
  {
   "cell_type": "code",
   "execution_count": null,
   "id": "3653efd1-b973-4c8a-a3ea-a19cf0f2ca66",
   "metadata": {},
   "outputs": [],
   "source": [
    "education_order = df.groupby(\"education\")[[\"response\"]].mean().sort_values(by=\"response\", ascending=True)\n",
    "education_order"
   ]
  },
  {
   "cell_type": "code",
   "execution_count": null,
   "id": "25b2ab52-e7bb-45ae-97b0-094e171aa345",
   "metadata": {},
   "outputs": [],
   "source": [
    "marital_status_order = df.groupby(\"marital_status\")[[\"response\"]].mean().sort_values(by=\"response\", ascending=True)\n",
    "marital_status_order"
   ]
  },
  {
   "cell_type": "code",
   "execution_count": null,
   "id": "c314b8f0-449f-4e65-9a58-5d092753c2d9",
   "metadata": {},
   "outputs": [],
   "source": [
    "numerical_columns = X_train.select_dtypes(include=['int64','float64']).columns\n",
    "categorical_columns= X_train.select_dtypes(include=[\"object\"]).columns\n",
    "\n",
    "\n",
    "educational_level_order = {\"Basic\": 1, \n",
    "                           \"Bachelor\": education_order.iloc[1,0] / education_order.iloc[0,0],\n",
    "                          \"Master\": education_order.iloc[2,0] / education_order.iloc[0,0],\n",
    "                          \"PhD\": education_order.iloc[3,0] / education_order.iloc[0,0]}\n",
    "\n",
    "\n",
    "X_train[\"education\"] = X_train[\"education\"].map(educational_level_order)\n",
    "X_test[\"education\"] = X_test[\"education\"].map(educational_level_order)\n",
    "\n",
    "marital_status_level = {\"Married\": 1,\n",
    "                        \"Single\": marital_status_order.iloc[1,0] / marital_status_order.iloc[0,0],\n",
    "                        \"Divorced\": marital_status_order.iloc[2,0] / marital_status_order.iloc[0,0],\n",
    "                        \"Widow\": marital_status_order.iloc[3,0] / marital_status_order.iloc[0,0],\n",
    "                        \"NI\": marital_status_order.iloc[4,0] / marital_status_order.iloc[0,0]}\n",
    "\n",
    "X_train[\"marital_status\"] = X_train[\"marital_status\"].map(marital_status_level)\n",
    "X_test[\"marital_status\"] = X_test[\"marital_status\"].map(marital_status_level)"
   ]
  },
  {
   "cell_type": "code",
   "execution_count": null,
   "id": "6759c303-48b8-4ee3-a29a-8bba7f6e8658",
   "metadata": {},
   "outputs": [],
   "source": [
    "X_train_final = pd.concat([X_train[numerical_columns], X_train[[\"education\",\"marital_status\"]]], axis=1)\n",
    "X_test_final = pd.concat([X_test[numerical_columns], X_test[[\"education\",\"marital_status\"]]], axis=1)"
   ]
  },
  {
   "cell_type": "markdown",
   "id": "0d8be7bd-60bc-4296-81b3-1c4abde682e3",
   "metadata": {},
   "source": [
    "### Oversampling"
   ]
  },
  {
   "cell_type": "code",
   "execution_count": null,
   "id": "16eeb3eb-73a8-48bc-bc70-7d26015200b6",
   "metadata": {},
   "outputs": [],
   "source": [
    "from imblearn.over_sampling import RandomOverSampler\n",
    "ros = RandomOverSampler(sampling_strategy='auto', random_state=0)\n",
    "X_train_resampled, y_train_resampled = ros.fit_resample(X_train_final, y_train)\n",
    "#X_test_resampled, y_test_resampled = ros.fit_resample(X_test_final, y_test)"
   ]
  },
  {
   "cell_type": "code",
   "execution_count": null,
   "id": "cf0cc730-487d-4bb4-8c13-104e6fe395ae",
   "metadata": {},
   "outputs": [],
   "source": [
    "y_train_resampled.value_counts()"
   ]
  },
  {
   "cell_type": "code",
   "execution_count": null,
   "id": "bf778df0-2d41-4d49-bb40-789499a4f1c4",
   "metadata": {},
   "outputs": [],
   "source": [
    "normalizer = MinMaxScaler()"
   ]
  },
  {
   "cell_type": "code",
   "execution_count": null,
   "id": "874d7daa-653a-4478-aa41-0d07e453df20",
   "metadata": {},
   "outputs": [],
   "source": [
    "normalizer.fit(X_train_resampled)"
   ]
  },
  {
   "cell_type": "code",
   "execution_count": null,
   "id": "8e2ccbb9-a9b0-47de-82a5-b536658c97b6",
   "metadata": {},
   "outputs": [],
   "source": [
    "# save the nomralizer with pickle in the \"../scalers/\" folder"
   ]
  },
  {
   "cell_type": "code",
   "execution_count": null,
   "id": "24a5e583-bd76-4519-b10d-67c33089413e",
   "metadata": {},
   "outputs": [],
   "source": [
    "X_train_resampled.columns"
   ]
  },
  {
   "cell_type": "code",
   "execution_count": null,
   "id": "1a4cb751-f608-4c66-bd64-813cf46399ef",
   "metadata": {},
   "outputs": [],
   "source": [
    "X_test = X_test[X_train_resampled.columns]"
   ]
  },
  {
   "cell_type": "code",
   "execution_count": null,
   "id": "489eb73c-5897-41c6-927d-4ed80f7f6cd7",
   "metadata": {},
   "outputs": [],
   "source": [
    "X_train_resampled_norm = normalizer.transform(X_train_resampled)\n",
    "X_test_norm = normalizer.transform(X_test)"
   ]
  },
  {
   "cell_type": "code",
   "execution_count": null,
   "id": "b98d87a3-8804-4c79-89dc-de93e0799a67",
   "metadata": {},
   "outputs": [],
   "source": [
    "X_train_resampled_norm_df = pd.DataFrame(X_train_resampled_norm, columns=X_train_resampled.columns, index=X_train_resampled.index )\n",
    "X_train_resampled_norm_df.head()"
   ]
  },
  {
   "cell_type": "code",
   "execution_count": null,
   "id": "57028e5c-fe8c-4f65-aa92-a4c3072dfb6b",
   "metadata": {},
   "outputs": [],
   "source": [
    "X_test_norm_df = pd.DataFrame(X_test_norm, columns=X_test.columns, index=X_test.index)\n",
    "X_test_norm_df.head()"
   ]
  },
  {
   "cell_type": "code",
   "execution_count": null,
   "id": "7b93003b-42e3-42d5-b661-a8a8631080bf",
   "metadata": {},
   "outputs": [],
   "source": [
    "X_train_resampled_norm_df.describe()"
   ]
  },
  {
   "cell_type": "code",
   "execution_count": null,
   "id": "cfd4715b-fcf4-4824-80a5-2f2793b7e951",
   "metadata": {},
   "outputs": [],
   "source": [
    "from sklearn.feature_selection import RFE\n",
    "from sklearn.tree import DecisionTreeClassifier"
   ]
  },
  {
   "cell_type": "markdown",
   "id": "16af1dd5-2aaa-46e1-9d4c-11007d6c4999",
   "metadata": {
    "jp-MarkdownHeadingCollapsed": true
   },
   "source": [
    "### Decision Tree"
   ]
  },
  {
   "cell_type": "code",
   "execution_count": null,
   "id": "e51c18ab-6db9-4a10-bf0b-3d4e27e411a2",
   "metadata": {},
   "outputs": [],
   "source": [
    "tree = DecisionTreeClassifier(max_depth=10)"
   ]
  },
  {
   "cell_type": "code",
   "execution_count": null,
   "id": "6e2c06e5-03be-4641-9bd9-4aaab963d5d4",
   "metadata": {},
   "outputs": [],
   "source": [
    "tree = DecisionTreeClassifier(max_depth=5)\n",
    "selector = RFE(tree, n_features_to_select=10, verbose=5)\n",
    "selector.fit(X_train_resampled_norm_df, y_train_resampled)\n",
    "selector.transform(X_test_norm_df)\n",
    "sc = selector.get_feature_names_out()"
   ]
  },
  {
   "cell_type": "code",
   "execution_count": null,
   "id": "0475026c-d930-4c8d-b0b7-83ccc8638b61",
   "metadata": {},
   "outputs": [],
   "source": [
    "tree.fit(X_train_resampled_norm_df[sc], y_train_resampled)"
   ]
  },
  {
   "cell_type": "code",
   "execution_count": null,
   "id": "6ab09fda-153b-4b89-8292-a6a74ab2f11c",
   "metadata": {},
   "outputs": [],
   "source": [
    "y_pred_test_dt = tree.predict(X_test_norm_df[sc])\n",
    "\n",
    "print(f\"MAE, {mean_absolute_error(y_pred_test_dt, y_test): .2f}\")\n",
    "print(f\"MSE, {mean_squared_error(y_pred_test_dt, y_test): .2f}\")\n",
    "print(f\"RMSE, {root_mean_squared_error(y_pred_test_dt, y_test): .2f}\")\n",
    "print(f\"R2 score, {tree.score(X_test_norm_df[sc], y_test): .2f}\")"
   ]
  },
  {
   "cell_type": "markdown",
   "id": "210b2e04-148f-4f45-85d3-acbdee194381",
   "metadata": {
    "jp-MarkdownHeadingCollapsed": true
   },
   "source": [
    "### Knn"
   ]
  },
  {
   "cell_type": "code",
   "execution_count": null,
   "id": "d58fadd5-30e0-4e9b-bfa7-f8e4de8912e2",
   "metadata": {},
   "outputs": [],
   "source": [
    "knn = KNeighborsClassifier(n_neighbors=10)"
   ]
  },
  {
   "cell_type": "code",
   "execution_count": null,
   "id": "df899836-dfb7-4e4d-b7b7-2c759f2932b3",
   "metadata": {},
   "outputs": [],
   "source": [
    "from sklearn.feature_selection import SelectKBest, f_classif\n",
    "\n",
    "selector = SelectKBest(score_func=f_classif, k=10)  \n",
    "selector.fit_transform(X_train_resampled_norm_df, y_train_resampled)\n",
    "selector.transform(X_test_norm_df)\n",
    "ksc = selector.get_feature_names_out()"
   ]
  },
  {
   "cell_type": "code",
   "execution_count": null,
   "id": "2927e613-4c58-4e61-816d-a2fb1a36aa7f",
   "metadata": {},
   "outputs": [],
   "source": [
    "knn.fit(X_train_resampled_norm_df[ksc], y_train_resampled)"
   ]
  },
  {
   "cell_type": "code",
   "execution_count": null,
   "id": "c7cca763-e793-4cac-9d18-c9c85e1550c8",
   "metadata": {},
   "outputs": [],
   "source": [
    "print(f\"The accuracy of the model is {knn.score(X_test[ksc], y_test)*100: .2f}%\")"
   ]
  },
  {
   "cell_type": "markdown",
   "id": "62bb7046-ac84-4847-9d28-6097c409b63e",
   "metadata": {
    "jp-MarkdownHeadingCollapsed": true
   },
   "source": [
    "### Logistic Regression"
   ]
  },
  {
   "cell_type": "code",
   "execution_count": null,
   "id": "2422e91e-58c7-456f-aaad-d8f27d12d0f7",
   "metadata": {},
   "outputs": [],
   "source": [
    "from sklearn.linear_model import LogisticRegression\n",
    "from sklearn.metrics import precision_score, recall_score, classification_report, confusion_matrix, f1_score"
   ]
  },
  {
   "cell_type": "code",
   "execution_count": null,
   "id": "0c782145-ed01-4948-8711-306982a27188",
   "metadata": {},
   "outputs": [],
   "source": [
    "log_reg = LogisticRegression()"
   ]
  },
  {
   "cell_type": "code",
   "execution_count": null,
   "id": "80d7b6de-be28-42f2-9a33-81b030d44e1f",
   "metadata": {},
   "outputs": [],
   "source": [
    "selector = RFE(log_reg, n_features_to_select=10, verbose=5)\n",
    "selector.fit(X_train_resampled_norm_df, y_train_resampled)\n",
    "selector.transform(X_test_norm_df)\n",
    "lrsc = selector.get_feature_names_out()"
   ]
  },
  {
   "cell_type": "code",
   "execution_count": null,
   "id": "1836234e-6a1a-47e1-94b7-5b82371841dd",
   "metadata": {},
   "outputs": [],
   "source": [
    "log_reg.fit(X_train_resampled_norm_df[lrsc], y_train_resampled)"
   ]
  },
  {
   "cell_type": "code",
   "execution_count": null,
   "id": "5e334fca-2428-4e71-abae-338d6d26a2f9",
   "metadata": {},
   "outputs": [],
   "source": [
    "log_reg.score(X_test_norm_df[lrsc], y_test)"
   ]
  },
  {
   "cell_type": "code",
   "execution_count": null,
   "id": "87bc66ac-fca8-414e-9750-d331e396cb52",
   "metadata": {},
   "outputs": [],
   "source": [
    "y_pred = log_reg.predict(X_test_norm_df[lrsc])\n",
    "print(classification_report(y_pred, y_test))"
   ]
  },
  {
   "cell_type": "markdown",
   "id": "0fae0a75-c78c-4640-acc0-ecad4d1b203d",
   "metadata": {
    "jp-MarkdownHeadingCollapsed": true
   },
   "source": [
    "### HYPERPARAMETER"
   ]
  },
  {
   "cell_type": "code",
   "execution_count": null,
   "id": "8364c523-4236-4440-b434-e4192d11c532",
   "metadata": {},
   "outputs": [],
   "source": [
    "from sklearn.tree import DecisionTreeClassifier\n",
    "from sklearn.model_selection import GridSearchCV\n",
    "\n",
    "# Define the parameter grid\n",
    "param_grid = {\n",
    "    'criterion': ['gini', 'entropy'],  \n",
    "    'max_depth': [5, 10, 15, 20, None],  \n",
    "    'min_samples_split': [2, 5, 10],  \n",
    "    'min_samples_leaf': [1, 2, 4]  \n",
    "}\n",
    "\n",
    "# Initialize Decision Tree Classifier\n",
    "dt = DecisionTreeClassifier()\n",
    "\n",
    "# Perform GridSearchCV\n",
    "grid_search = GridSearchCV(dt, param_grid, cv=5, scoring='accuracy', n_jobs=1, verbose=1)\n",
    "grid_search.fit(X_train_resampled_norm_df, y_train_resampled)  \n",
    "\n",
    "# Print best parameters and best score\n",
    "print(\"Best Parameters:\", grid_search.best_params_)\n",
    "print(\"Best Accuracy Score:\", grid_search.best_score_)\n"
   ]
  },
  {
   "cell_type": "code",
   "execution_count": null,
   "id": "b81621b0-e8f2-4dfa-b587-0bc8039e2038",
   "metadata": {},
   "outputs": [],
   "source": [
    "# Define the parameter grid for KNN\n",
    "param_grid = {\n",
    "    'n_neighbors': [3, 5, 7, 9, 11],  # Number of neighbors\n",
    "    'weights': ['uniform', 'distance'],  # Weight function\n",
    "    'metric': ['euclidean', 'manhattan', 'minkowski']  # Distance metric\n",
    "}\n",
    "\n",
    "# Initialize KNN model\n",
    "knn = KNeighborsClassifier()\n",
    "\n",
    "# Perform GridSearchCV with your training data\n",
    "grid_search = GridSearchCV(knn, param_grid, cv=5, scoring='accuracy', n_jobs=-1, verbose=1)\n",
    "grid_search.fit(X_train_resampled_norm_df, y_train_resampled)\n",
    "\n",
    "# Print the best parameters and best accuracy score\n",
    "print(\"Best Parameters:\", grid_search.best_params_)\n",
    "print(\"Best Accuracy Score:\", grid_search.best_score_)\n",
    "\n",
    "# Get the best model\n",
    "best_knn = grid_search.best_estimator_\n",
    "\n",
    "# Making predictions using the best model\n",
    "y_pred = best_knn.predict(X_test_norm_df)\n",
    "\n",
    "print(classification_report(y_test, y_pred))\n"
   ]
  },
  {
   "cell_type": "markdown",
   "id": "0ba42ea7-03ac-4536-b3c0-52c07b07dabf",
   "metadata": {
    "jp-MarkdownHeadingCollapsed": true
   },
   "source": [
    "### Smote"
   ]
  },
  {
   "cell_type": "code",
   "execution_count": null,
   "id": "c0c8d2c7-b26b-4ce8-be6f-46ffdb737c4a",
   "metadata": {},
   "outputs": [],
   "source": [
    "from imblearn.over_sampling import SMOTE\n",
    "smote = SMOTE(sampling_strategy='auto', random_state=0)\n",
    "X_train_resampled, y_train_resampled = smote.fit_resample(X_train_final, y_train)"
   ]
  },
  {
   "cell_type": "code",
   "execution_count": null,
   "id": "4cb7ed89-db97-40a8-ae2b-2c18b5469372",
   "metadata": {},
   "outputs": [],
   "source": [
    "y_train_resampled.value_counts()"
   ]
  },
  {
   "cell_type": "code",
   "execution_count": null,
   "id": "d87ed45d-da4b-464d-b4e8-1853e08d061b",
   "metadata": {},
   "outputs": [],
   "source": [
    "normalizer = MinMaxScaler()"
   ]
  },
  {
   "cell_type": "code",
   "execution_count": null,
   "id": "2fe1a500-75db-4bd4-8faf-07a4a1342e97",
   "metadata": {},
   "outputs": [],
   "source": [
    "normalizer.fit(X_train_resampled)"
   ]
  },
  {
   "cell_type": "code",
   "execution_count": null,
   "id": "281264e7-d359-4e84-a56d-4dc3328d118b",
   "metadata": {},
   "outputs": [],
   "source": [
    "X_test = X_test[X_train_resampled.columns]"
   ]
  },
  {
   "cell_type": "code",
   "execution_count": null,
   "id": "ef332020-7d9e-40a2-ad40-cd604f592140",
   "metadata": {},
   "outputs": [],
   "source": [
    "X_train_resampled_norm = normalizer.transform(X_train_resampled)\n",
    "X_test_norm = normalizer.transform(X_test)"
   ]
  },
  {
   "cell_type": "code",
   "execution_count": null,
   "id": "d79526bb-4c59-4240-9bc1-44d8574c9b3e",
   "metadata": {},
   "outputs": [],
   "source": [
    "X_train_resampled_norm_df = pd.DataFrame(X_train_resampled_norm, columns=X_train_resampled.columns, index=X_train_resampled.index )\n",
    "X_train_resampled_norm_df.head()"
   ]
  },
  {
   "cell_type": "code",
   "execution_count": null,
   "id": "29fc6668-101e-4421-a6f7-927f9e443f6b",
   "metadata": {},
   "outputs": [],
   "source": [
    "X_test_norm_df = pd.DataFrame(X_test_norm, columns=X_test.columns, index=X_test.index)\n",
    "X_test_norm_df.head()"
   ]
  },
  {
   "cell_type": "code",
   "execution_count": null,
   "id": "96600089-12e4-4f06-b439-1ef51306e66c",
   "metadata": {},
   "outputs": [],
   "source": [
    "X_train_resampled_norm_df.describe()"
   ]
  },
  {
   "cell_type": "markdown",
   "id": "a3249ac6-45c3-48d8-b97f-8158c67e6371",
   "metadata": {
    "jp-MarkdownHeadingCollapsed": true
   },
   "source": [
    "### Smote-decision tree"
   ]
  },
  {
   "cell_type": "code",
   "execution_count": null,
   "id": "4af77e92-eebe-4c33-a457-c51a52a8e0bb",
   "metadata": {},
   "outputs": [],
   "source": [
    "tree = DecisionTreeClassifier(max_depth=10)"
   ]
  },
  {
   "cell_type": "code",
   "execution_count": null,
   "id": "2173a717-8da9-42f1-9eda-30d1ed4d2dee",
   "metadata": {},
   "outputs": [],
   "source": [
    "tree = DecisionTreeClassifier(max_depth=5)\n",
    "selector = RFE(tree, n_features_to_select=10, verbose=5)\n",
    "selector.fit(X_train_resampled_norm_df, y_train_resampled)\n",
    "selector.transform(X_test_norm_df)\n",
    "sc = selector.get_feature_names_out()"
   ]
  },
  {
   "cell_type": "code",
   "execution_count": null,
   "id": "90386550-4d5f-4194-9dc5-c7eb90493906",
   "metadata": {},
   "outputs": [],
   "source": [
    "tree.fit(X_train_resampled_norm_df[sc], y_train_resampled)"
   ]
  },
  {
   "cell_type": "code",
   "execution_count": null,
   "id": "e91a77e6-f637-4008-a6b8-f686672dd63c",
   "metadata": {},
   "outputs": [],
   "source": [
    "y_pred_test_dt = tree.predict(X_test_norm_df[sc])\n",
    "\n",
    "print(f\"MAE, {mean_absolute_error(y_pred_test_dt, y_test): .2f}\")\n",
    "print(f\"MSE, {mean_squared_error(y_pred_test_dt, y_test): .2f}\")\n",
    "print(f\"RMSE, {root_mean_squared_error(y_pred_test_dt, y_test): .2f}\")\n",
    "print(f\"R2 score, {tree.score(X_test_norm_df[sc], y_test): .2f}\")"
   ]
  },
  {
   "cell_type": "markdown",
   "id": "17f10d56-515f-483d-86e4-4c9a7a7351a0",
   "metadata": {
    "jp-MarkdownHeadingCollapsed": true
   },
   "source": [
    "### Smote- knn"
   ]
  },
  {
   "cell_type": "code",
   "execution_count": null,
   "id": "824fae25-4f0a-46d8-8de2-014d944b4d3f",
   "metadata": {},
   "outputs": [],
   "source": [
    "knn = KNeighborsClassifier(n_neighbors=10)"
   ]
  },
  {
   "cell_type": "code",
   "execution_count": null,
   "id": "a749601f-cf04-4b48-8a7d-be0214915d6e",
   "metadata": {},
   "outputs": [],
   "source": [
    "from sklearn.feature_selection import SelectKBest, f_classif\n",
    "\n",
    "selector = SelectKBest(score_func=f_classif, k=10)  \n",
    "selector.fit_transform(X_train_resampled_norm_df, y_train_resampled)\n",
    "selector.transform(X_test_norm_df)\n",
    "sksc = selector.get_feature_names_out()"
   ]
  },
  {
   "cell_type": "code",
   "execution_count": null,
   "id": "c123f073-2c97-49a5-b1d0-26f867e5efc2",
   "metadata": {},
   "outputs": [],
   "source": [
    "knn.fit(X_train_resampled_norm_df[sksc], y_train_resampled)"
   ]
  },
  {
   "cell_type": "code",
   "execution_count": null,
   "id": "fa55bcce-0440-4db2-9a27-36f5129885ed",
   "metadata": {},
   "outputs": [],
   "source": [
    "print(f\"The accuracy of the model is {knn.score(X_test[sksc], y_test)*100: .2f}%\")"
   ]
  },
  {
   "cell_type": "markdown",
   "id": "6636501f-9119-4a6a-b8b6-277240f3cb4a",
   "metadata": {
    "jp-MarkdownHeadingCollapsed": true
   },
   "source": [
    "### smote log regression"
   ]
  },
  {
   "cell_type": "code",
   "execution_count": null,
   "id": "637a5add-12ca-455e-89ae-5fcbdf039204",
   "metadata": {},
   "outputs": [],
   "source": [
    "log_reg = LogisticRegression()"
   ]
  },
  {
   "cell_type": "code",
   "execution_count": null,
   "id": "f850f690-f286-4e17-88b8-e3fa140a21fa",
   "metadata": {},
   "outputs": [],
   "source": [
    "selector = RFE(log_reg, n_features_to_select=10, verbose=5)\n",
    "selector.fit(X_train_resampled_norm_df, y_train_resampled)\n",
    "selector.transform(X_test_norm_df)\n",
    "slrsc = selector.get_feature_names_out()"
   ]
  },
  {
   "cell_type": "code",
   "execution_count": null,
   "id": "340c9377-6807-41e5-985b-0a0f93acc2e8",
   "metadata": {},
   "outputs": [],
   "source": [
    "log_reg.fit(X_train_resampled_norm_df[slrsc], y_train_resampled)"
   ]
  },
  {
   "cell_type": "code",
   "execution_count": null,
   "id": "3c591188-2788-4ac4-a38c-ba66a75f0941",
   "metadata": {},
   "outputs": [],
   "source": [
    "log_reg.score(X_test_norm_df[slrsc], y_test)"
   ]
  },
  {
   "cell_type": "code",
   "execution_count": null,
   "id": "be264585-ddc7-426c-9f5f-044a76804bb4",
   "metadata": {},
   "outputs": [],
   "source": [
    "y_pred = log_reg.predict(X_test_norm_df[slrsc])\n",
    "print(classification_report(y_pred, y_test))"
   ]
  },
  {
   "cell_type": "markdown",
   "id": "c6c0573f-b06e-40ec-960e-4dd8eb7121c3",
   "metadata": {
    "jp-MarkdownHeadingCollapsed": true
   },
   "source": [
    "### Smote- hyperparameter"
   ]
  },
  {
   "cell_type": "code",
   "execution_count": null,
   "id": "bbad0a58-664a-4300-b002-6636e718711d",
   "metadata": {},
   "outputs": [],
   "source": [
    "from sklearn.tree import DecisionTreeClassifier\n",
    "from sklearn.model_selection import GridSearchCV\n",
    "\n",
    "# Define the parameter grid\n",
    "param_grid = {\n",
    "    'criterion': ['gini', 'entropy'],  \n",
    "    'max_depth': [5, 10, 15, 20, None],  \n",
    "    'min_samples_split': [2, 5, 10],  \n",
    "    'min_samples_leaf': [1, 2, 4]  \n",
    "}\n",
    "\n",
    "# Initialize Decision Tree Classifier\n",
    "dt = DecisionTreeClassifier()\n",
    "\n",
    "# Perform GridSearchCV\n",
    "grid_search = GridSearchCV(dt, param_grid, cv=5, scoring='accuracy', n_jobs=1, verbose=1)\n",
    "grid_search.fit(X_train_resampled_norm_df, y_train_resampled)  \n",
    "\n",
    "# Print best parameters and best score\n",
    "print(\"Best Parameters:\", grid_search.best_params_)\n",
    "print(\"Best Accuracy Score:\", grid_search.best_score_)"
   ]
  },
  {
   "cell_type": "code",
   "execution_count": null,
   "id": "1aea2851-1e07-4579-b34e-98c98db59876",
   "metadata": {},
   "outputs": [],
   "source": [
    "# Define the parameter grid for KNN\n",
    "param_grid = {\n",
    "    'n_neighbors': [3, 5, 7, 9, 11],  # Number of neighbors\n",
    "    'weights': ['uniform', 'distance'],  # Weight function\n",
    "    'metric': ['euclidean', 'manhattan', 'minkowski']  # Distance metric\n",
    "}\n",
    "\n",
    "# Initialize KNN model\n",
    "knn = KNeighborsClassifier()\n",
    "\n",
    "# Perform GridSearchCV with your training data\n",
    "grid_search = GridSearchCV(knn, param_grid, cv=5, scoring='accuracy', n_jobs=-1, verbose=1)\n",
    "grid_search.fit(X_train_resampled_norm_df, y_train_resampled)\n",
    "\n",
    "# Print the best parameters and best accuracy score\n",
    "print(\"Best Parameters:\", grid_search.best_params_)\n",
    "print(\"Best Accuracy Score:\", grid_search.best_score_)\n",
    "\n",
    "# Get the best model\n",
    "best_knn = grid_search.best_estimator_\n",
    "\n",
    "# Making predictions using the best model\n",
    "y_pred = best_knn.predict(X_test_norm_df)\n",
    "\n",
    "print(classification_report(y_test, y_pred))"
   ]
  },
  {
   "cell_type": "code",
   "execution_count": null,
   "id": "07202d0e-d1aa-4244-b51f-6da5fcba1e89",
   "metadata": {},
   "outputs": [],
   "source": []
  }
 ],
 "metadata": {
  "kernelspec": {
   "display_name": "venv",
   "language": "python",
   "name": "venv"
  },
  "language_info": {
   "codemirror_mode": {
    "name": "ipython",
    "version": 3
   },
   "file_extension": ".py",
   "mimetype": "text/x-python",
   "name": "python",
   "nbconvert_exporter": "python",
   "pygments_lexer": "ipython3",
   "version": "3.12.7"
  }
 },
 "nbformat": 4,
 "nbformat_minor": 5
}
